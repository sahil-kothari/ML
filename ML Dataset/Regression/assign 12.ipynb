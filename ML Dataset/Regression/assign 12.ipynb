{
 "cells": [
  {
   "cell_type": "code",
   "execution_count": 41,
   "metadata": {},
   "outputs": [],
   "source": [
    "import pandas as pd\n",
    "import numpy as np\n",
    "import matplotlib.pyplot as plt\n",
    "import seaborn as sb"
   ]
  },
  {
   "cell_type": "code",
   "execution_count": 42,
   "metadata": {},
   "outputs": [],
   "source": [
    "df = pd.read_csv('advertising.csv')"
   ]
  },
  {
   "cell_type": "code",
   "execution_count": 43,
   "metadata": {},
   "outputs": [
    {
     "data": {
      "text/html": [
       "<div>\n",
       "<style scoped>\n",
       "    .dataframe tbody tr th:only-of-type {\n",
       "        vertical-align: middle;\n",
       "    }\n",
       "\n",
       "    .dataframe tbody tr th {\n",
       "        vertical-align: top;\n",
       "    }\n",
       "\n",
       "    .dataframe thead th {\n",
       "        text-align: right;\n",
       "    }\n",
       "</style>\n",
       "<table border=\"1\" class=\"dataframe\">\n",
       "  <thead>\n",
       "    <tr style=\"text-align: right;\">\n",
       "      <th></th>\n",
       "      <th>TV</th>\n",
       "      <th>Radio</th>\n",
       "      <th>Newspaper</th>\n",
       "      <th>Sales</th>\n",
       "    </tr>\n",
       "  </thead>\n",
       "  <tbody>\n",
       "    <tr>\n",
       "      <th>0</th>\n",
       "      <td>230.1</td>\n",
       "      <td>37.8</td>\n",
       "      <td>69.2</td>\n",
       "      <td>22.1</td>\n",
       "    </tr>\n",
       "    <tr>\n",
       "      <th>1</th>\n",
       "      <td>44.5</td>\n",
       "      <td>39.3</td>\n",
       "      <td>45.1</td>\n",
       "      <td>10.4</td>\n",
       "    </tr>\n",
       "    <tr>\n",
       "      <th>2</th>\n",
       "      <td>17.2</td>\n",
       "      <td>45.9</td>\n",
       "      <td>69.3</td>\n",
       "      <td>12.0</td>\n",
       "    </tr>\n",
       "    <tr>\n",
       "      <th>3</th>\n",
       "      <td>151.5</td>\n",
       "      <td>41.3</td>\n",
       "      <td>58.5</td>\n",
       "      <td>16.5</td>\n",
       "    </tr>\n",
       "    <tr>\n",
       "      <th>4</th>\n",
       "      <td>180.8</td>\n",
       "      <td>10.8</td>\n",
       "      <td>58.4</td>\n",
       "      <td>17.9</td>\n",
       "    </tr>\n",
       "    <tr>\n",
       "      <th>5</th>\n",
       "      <td>8.7</td>\n",
       "      <td>48.9</td>\n",
       "      <td>75.0</td>\n",
       "      <td>7.2</td>\n",
       "    </tr>\n",
       "    <tr>\n",
       "      <th>6</th>\n",
       "      <td>57.5</td>\n",
       "      <td>32.8</td>\n",
       "      <td>23.5</td>\n",
       "      <td>11.8</td>\n",
       "    </tr>\n",
       "    <tr>\n",
       "      <th>7</th>\n",
       "      <td>120.2</td>\n",
       "      <td>19.6</td>\n",
       "      <td>11.6</td>\n",
       "      <td>13.2</td>\n",
       "    </tr>\n",
       "    <tr>\n",
       "      <th>8</th>\n",
       "      <td>8.6</td>\n",
       "      <td>2.1</td>\n",
       "      <td>1.0</td>\n",
       "      <td>4.8</td>\n",
       "    </tr>\n",
       "    <tr>\n",
       "      <th>9</th>\n",
       "      <td>199.8</td>\n",
       "      <td>2.6</td>\n",
       "      <td>21.2</td>\n",
       "      <td>15.6</td>\n",
       "    </tr>\n",
       "  </tbody>\n",
       "</table>\n",
       "</div>"
      ],
      "text/plain": [
       "      TV  Radio  Newspaper  Sales\n",
       "0  230.1   37.8       69.2   22.1\n",
       "1   44.5   39.3       45.1   10.4\n",
       "2   17.2   45.9       69.3   12.0\n",
       "3  151.5   41.3       58.5   16.5\n",
       "4  180.8   10.8       58.4   17.9\n",
       "5    8.7   48.9       75.0    7.2\n",
       "6   57.5   32.8       23.5   11.8\n",
       "7  120.2   19.6       11.6   13.2\n",
       "8    8.6    2.1        1.0    4.8\n",
       "9  199.8    2.6       21.2   15.6"
      ]
     },
     "execution_count": 43,
     "metadata": {},
     "output_type": "execute_result"
    }
   ],
   "source": [
    "df.head(10)"
   ]
  },
  {
   "cell_type": "code",
   "execution_count": 44,
   "metadata": {},
   "outputs": [
    {
     "data": {
      "text/plain": [
       "<bound method NDFrame.describe of         TV  Radio  Newspaper  Sales\n",
       "0    230.1   37.8       69.2   22.1\n",
       "1     44.5   39.3       45.1   10.4\n",
       "2     17.2   45.9       69.3   12.0\n",
       "3    151.5   41.3       58.5   16.5\n",
       "4    180.8   10.8       58.4   17.9\n",
       "..     ...    ...        ...    ...\n",
       "195   38.2    3.7       13.8    7.6\n",
       "196   94.2    4.9        8.1   14.0\n",
       "197  177.0    9.3        6.4   14.8\n",
       "198  283.6   42.0       66.2   25.5\n",
       "199  232.1    8.6        8.7   18.4\n",
       "\n",
       "[200 rows x 4 columns]>"
      ]
     },
     "execution_count": 44,
     "metadata": {},
     "output_type": "execute_result"
    }
   ],
   "source": [
    "df.describe"
   ]
  },
  {
   "cell_type": "code",
   "execution_count": 45,
   "metadata": {},
   "outputs": [
    {
     "data": {
      "text/plain": [
       "Index(['TV', 'Radio', 'Newspaper', 'Sales'], dtype='object')"
      ]
     },
     "execution_count": 45,
     "metadata": {},
     "output_type": "execute_result"
    }
   ],
   "source": [
    "df.columns"
   ]
  },
  {
   "cell_type": "code",
   "execution_count": 46,
   "metadata": {},
   "outputs": [
    {
     "data": {
      "text/plain": [
       "TV           0\n",
       "Radio        0\n",
       "Newspaper    0\n",
       "Sales        0\n",
       "dtype: int64"
      ]
     },
     "execution_count": 46,
     "metadata": {},
     "output_type": "execute_result"
    }
   ],
   "source": [
    "df.isnull().sum()"
   ]
  },
  {
   "cell_type": "code",
   "execution_count": 47,
   "metadata": {},
   "outputs": [
    {
     "data": {
      "text/plain": [
       "TV           float64\n",
       "Radio        float64\n",
       "Newspaper    float64\n",
       "Sales        float64\n",
       "dtype: object"
      ]
     },
     "execution_count": 47,
     "metadata": {},
     "output_type": "execute_result"
    }
   ],
   "source": [
    "df.dtypes"
   ]
  },
  {
   "cell_type": "code",
   "execution_count": 61,
   "metadata": {},
   "outputs": [],
   "source": [
    "X=df.iloc[:,1:2].values"
   ]
  },
  {
   "cell_type": "code",
   "execution_count": 62,
   "metadata": {},
   "outputs": [
    {
     "data": {
      "text/plain": [
       "array([[37.8],\n",
       "       [39.3],\n",
       "       [45.9],\n",
       "       [41.3],\n",
       "       [10.8],\n",
       "       [48.9],\n",
       "       [32.8],\n",
       "       [19.6],\n",
       "       [ 2.1],\n",
       "       [ 2.6],\n",
       "       [ 5.8],\n",
       "       [24. ],\n",
       "       [35.1],\n",
       "       [ 7.6],\n",
       "       [32.9],\n",
       "       [47.7],\n",
       "       [36.6],\n",
       "       [39.6],\n",
       "       [20.5],\n",
       "       [23.9],\n",
       "       [27.7],\n",
       "       [ 5.1],\n",
       "       [15.9],\n",
       "       [16.9],\n",
       "       [12.6],\n",
       "       [ 3.5],\n",
       "       [29.3],\n",
       "       [16.7],\n",
       "       [27.1],\n",
       "       [16. ],\n",
       "       [28.3],\n",
       "       [17.4],\n",
       "       [ 1.5],\n",
       "       [20. ],\n",
       "       [ 1.4],\n",
       "       [ 4.1],\n",
       "       [43.8],\n",
       "       [49.4],\n",
       "       [26.7],\n",
       "       [37.7],\n",
       "       [22.3],\n",
       "       [33.4],\n",
       "       [27.7],\n",
       "       [ 8.4],\n",
       "       [25.7],\n",
       "       [22.5],\n",
       "       [ 9.9],\n",
       "       [41.5],\n",
       "       [15.8],\n",
       "       [11.7],\n",
       "       [ 3.1],\n",
       "       [ 9.6],\n",
       "       [41.7],\n",
       "       [46.2],\n",
       "       [28.8],\n",
       "       [49.4],\n",
       "       [28.1],\n",
       "       [19.2],\n",
       "       [49.6],\n",
       "       [29.5],\n",
       "       [ 2. ],\n",
       "       [42.7],\n",
       "       [15.5],\n",
       "       [29.6],\n",
       "       [42.8],\n",
       "       [ 9.3],\n",
       "       [24.6],\n",
       "       [14.5],\n",
       "       [27.5],\n",
       "       [43.9],\n",
       "       [30.6],\n",
       "       [14.3],\n",
       "       [33. ],\n",
       "       [ 5.7],\n",
       "       [24.6],\n",
       "       [43.7],\n",
       "       [ 1.6],\n",
       "       [28.5],\n",
       "       [29.9],\n",
       "       [ 7.7],\n",
       "       [26.7],\n",
       "       [ 4.1],\n",
       "       [20.3],\n",
       "       [44.5],\n",
       "       [43. ],\n",
       "       [18.4],\n",
       "       [27.5],\n",
       "       [40.6],\n",
       "       [25.5],\n",
       "       [47.8],\n",
       "       [ 4.9],\n",
       "       [ 1.5],\n",
       "       [33.5],\n",
       "       [36.5],\n",
       "       [14. ],\n",
       "       [31.6],\n",
       "       [ 3.5],\n",
       "       [21. ],\n",
       "       [42.3],\n",
       "       [41.7],\n",
       "       [ 4.3],\n",
       "       [36.3],\n",
       "       [10.1],\n",
       "       [17.2],\n",
       "       [34.3],\n",
       "       [46.4],\n",
       "       [11. ],\n",
       "       [ 0.3],\n",
       "       [ 0.4],\n",
       "       [26.9],\n",
       "       [ 8.2],\n",
       "       [38. ],\n",
       "       [15.4],\n",
       "       [20.6],\n",
       "       [46.8],\n",
       "       [35. ],\n",
       "       [14.3],\n",
       "       [ 0.8],\n",
       "       [36.9],\n",
       "       [16. ],\n",
       "       [26.8],\n",
       "       [21.7],\n",
       "       [ 2.4],\n",
       "       [34.6],\n",
       "       [32.3],\n",
       "       [11.8],\n",
       "       [38.9],\n",
       "       [ 0. ],\n",
       "       [49. ],\n",
       "       [12. ],\n",
       "       [39.6],\n",
       "       [ 2.9],\n",
       "       [27.2],\n",
       "       [33.5],\n",
       "       [38.6],\n",
       "       [47. ],\n",
       "       [39. ],\n",
       "       [28.9],\n",
       "       [25.9],\n",
       "       [43.9],\n",
       "       [17. ],\n",
       "       [35.4],\n",
       "       [33.2],\n",
       "       [ 5.7],\n",
       "       [14.8],\n",
       "       [ 1.9],\n",
       "       [ 7.3],\n",
       "       [49. ],\n",
       "       [40.3],\n",
       "       [25.8],\n",
       "       [13.9],\n",
       "       [ 8.4],\n",
       "       [23.3],\n",
       "       [39.7],\n",
       "       [21.1],\n",
       "       [11.6],\n",
       "       [43.5],\n",
       "       [ 1.3],\n",
       "       [36.9],\n",
       "       [18.4],\n",
       "       [18.1],\n",
       "       [35.8],\n",
       "       [18.1],\n",
       "       [36.8],\n",
       "       [14.7],\n",
       "       [ 3.4],\n",
       "       [37.6],\n",
       "       [ 5.2],\n",
       "       [23.6],\n",
       "       [10.6],\n",
       "       [11.6],\n",
       "       [20.9],\n",
       "       [20.1],\n",
       "       [ 7.1],\n",
       "       [ 3.4],\n",
       "       [48.9],\n",
       "       [30.2],\n",
       "       [ 7.8],\n",
       "       [ 2.3],\n",
       "       [10. ],\n",
       "       [ 2.6],\n",
       "       [ 5.4],\n",
       "       [ 5.7],\n",
       "       [43. ],\n",
       "       [21.3],\n",
       "       [45.1],\n",
       "       [ 2.1],\n",
       "       [28.7],\n",
       "       [13.9],\n",
       "       [12.1],\n",
       "       [41.1],\n",
       "       [10.8],\n",
       "       [ 4.1],\n",
       "       [42. ],\n",
       "       [35.6],\n",
       "       [ 3.7],\n",
       "       [ 4.9],\n",
       "       [ 9.3],\n",
       "       [42. ],\n",
       "       [ 8.6]])"
      ]
     },
     "execution_count": 62,
     "metadata": {},
     "output_type": "execute_result"
    }
   ],
   "source": [
    "X"
   ]
  },
  {
   "cell_type": "code",
   "execution_count": 63,
   "metadata": {},
   "outputs": [],
   "source": [
    "y=df['Sales']"
   ]
  },
  {
   "cell_type": "code",
   "execution_count": 75,
   "metadata": {},
   "outputs": [],
   "source": [
    "from sklearn.model_selection import train_test_split\n",
    "X_train , X_test , Y_train , Y_test = train_test_split(X,y,test_size=0.25,random_state=123)"
   ]
  },
  {
   "cell_type": "code",
   "execution_count": 76,
   "metadata": {},
   "outputs": [],
   "source": [
    "from sklearn.linear_model import LinearRegression\n",
    "LinReg=LinearRegression()"
   ]
  },
  {
   "cell_type": "code",
   "execution_count": 77,
   "metadata": {},
   "outputs": [
    {
     "data": {
      "text/plain": [
       "LinearRegression()"
      ]
     },
     "execution_count": 77,
     "metadata": {},
     "output_type": "execute_result"
    }
   ],
   "source": [
    "LinReg.fit(X_train,Y_train)"
   ]
  },
  {
   "cell_type": "code",
   "execution_count": 78,
   "metadata": {},
   "outputs": [
    {
     "name": "stdout",
     "output_type": "stream",
     "text": [
      "a0 = 12.557651103864346\n",
      "a1 = [0.11297944]\n"
     ]
    }
   ],
   "source": [
    "print(f'a0 = {LinReg.intercept_}')\n",
    "print(f'a1 = {LinReg.coef_}')"
   ]
  },
  {
   "cell_type": "code",
   "execution_count": 79,
   "metadata": {},
   "outputs": [],
   "source": [
    "Y_predict= LinReg.predict(X_test)"
   ]
  },
  {
   "cell_type": "code",
   "execution_count": 80,
   "metadata": {},
   "outputs": [
    {
     "data": {
      "text/plain": [
       "array([12.90788738, 12.5576511 , 18.13883568, 15.47252078, 15.25785984,\n",
       "       16.43284606, 13.68744555, 17.77730146, 14.60257906, 16.72659262,\n",
       "       14.85113383, 17.65302407, 13.20163394, 13.92470239, 12.60284288,\n",
       "       14.52349344, 13.77782911, 12.81750383, 15.00930506, 15.68718173,\n",
       "       14.82853795, 15.43862695, 16.80567823, 13.86821266, 18.0936439 ,\n",
       "       16.28597278, 12.85139766, 15.86794884, 14.22974689, 17.26889395,\n",
       "       13.42759283, 16.68140084, 17.41576723, 14.36532222, 14.63647289,\n",
       "       16.34246251, 14.96411328, 17.51744873, 16.12780156, 14.47830167,\n",
       "       13.98119211, 14.12806539, 17.84508912, 14.81724   , 14.46700372,\n",
       "       14.9189215 , 16.33116456, 13.04346272, 15.19007217, 14.17325717])"
      ]
     },
     "execution_count": 80,
     "metadata": {},
     "output_type": "execute_result"
    }
   ],
   "source": [
    "Y_predict"
   ]
  },
  {
   "cell_type": "code",
   "execution_count": 81,
   "metadata": {},
   "outputs": [
    {
     "data": {
      "text/plain": [
       "50     16.4\n",
       "127    11.9\n",
       "37     14.7\n",
       "149    10.1\n",
       "19     14.6\n",
       "104    20.7\n",
       "179    17.6\n",
       "53     21.2\n",
       "162    19.9\n",
       "158     7.3\n",
       "82     11.3\n",
       "185    22.6\n",
       "182     8.7\n",
       "189     6.7\n",
       "108     5.3\n",
       "31     11.9\n",
       "4      17.9\n",
       "178    16.8\n",
       "121     7.0\n",
       "20     18.0\n",
       "172     7.6\n",
       "88     12.9\n",
       "166     8.0\n",
       "170     8.4\n",
       "128    24.7\n",
       "72      8.8\n",
       "180    15.5\n",
       "26     15.0\n",
       "144    12.3\n",
       "52     22.6\n",
       "79     11.0\n",
       "93     22.2\n",
       "183    26.2\n",
       "119     6.6\n",
       "85     20.2\n",
       "133    19.6\n",
       "184    17.6\n",
       "139    20.7\n",
       "95     16.9\n",
       "140    10.9\n",
       "24      9.7\n",
       "150    16.1\n",
       "114    14.6\n",
       "33     17.4\n",
       "23     20.5\n",
       "171    17.5\n",
       "41     17.1\n",
       "100    16.7\n",
       "152    16.6\n",
       "71     12.4\n",
       "Name: Sales, dtype: float64"
      ]
     },
     "execution_count": 81,
     "metadata": {},
     "output_type": "execute_result"
    }
   ],
   "source": [
    "Y_test"
   ]
  },
  {
   "cell_type": "code",
   "execution_count": 82,
   "metadata": {},
   "outputs": [
    {
     "data": {
      "image/png": "[encoded data removed]",
      "text/plain": [
       "<Figure size 640x480 with 1 Axes>"
      ]
     },
     "metadata": {},
     "output_type": "display_data"
    }
   ],
   "source": [
    "plt.scatter(X_train,Y_train, color='Red')\n",
    "plt.plot(X_train,LinReg.predict(X_train),color='Black')\n",
    "plt.title('TV VS Sales to Study (On Test Data)')\n",
    "plt.xlabel('TV Data')\n",
    "plt.ylabel('Sales')\n",
    "plt.show()"
   ]
  },
  {
   "cell_type": "code",
   "execution_count": 83,
   "metadata": {},
   "outputs": [
    {
     "data": {
      "image/png": "[encoded data removed]",
      "text/plain": [
       "<Figure size 640x480 with 1 Axes>"
      ]
     },
     "metadata": {},
     "output_type": "display_data"
    }
   ],
   "source": [
    "plt.scatter(X_test, Y_test, color='Green')\n",
    "plt.plot(X_test, LinReg.predict(X_test), color='Black')\n",
    "plt.title('TV VS Sales to Study (On Test Data)')\n",
    "plt.xlabel('TV Data')\n",
    "plt.ylabel('Sales')\n",
    "plt.show()"
   ]
  },
  {
   "cell_type": "code",
   "execution_count": 84,
   "metadata": {},
   "outputs": [
    {
     "name": "stdout",
     "output_type": "stream",
     "text": [
      "r_square/ coefficient of determination:  -0.23815234387228035\n",
      "mean_square_error:  33.658552391996\n",
      "rmse:  5.801599123689606\n",
      "mean_absolute_error:  5.105679803363688\n"
     ]
    }
   ],
   "source": [
    "from sklearn import metrics\n",
    "r_square = metrics.r2_score(y_test, Y_predict)\n",
    "print('r_square/ coefficient of determination: ', r_square)\n",
    "\n",
    "mean_square_error = metrics.mean_squared_error(y_test, Y_predict)\n",
    "print('mean_square_error: ', mean_square_error)\n",
    "\n",
    "rmse = np.sqrt(metrics.mean_squared_error(y_test, Y_predict))\n",
    "print('rmse: ', rmse)\n",
    "\n",
    "mean_absolute_error = metrics.mean_absolute_error(y_test, Y_predict)\n",
    "print('mean_absolute_error: ', mean_absolute_error)\n"
   ]
  },
  {
   "cell_type": "code",
   "execution_count": 85,
   "metadata": {},
   "outputs": [
    {
     "name": "stdout",
     "output_type": "stream",
     "text": [
      "rss:  1141.1717769961247\n"
     ]
    }
   ],
   "source": [
    "df = pd.DataFrame({'Actual': Y_test, 'Predicted':Y_predict})\n",
    "rss = np.sum(np.square(df['Predicted']-df['Actual']))\n",
    "print('rss: ', rss)"
   ]
  },
  {
   "cell_type": "code",
   "execution_count": null,
   "metadata": {},
   "outputs": [],
   "source": []
  }
 ],
 "metadata": {
  "kernelspec": {
   "display_name": "Python 3.9.12 ('base')",
   "language": "python",
   "name": "python3"
  },
  "language_info": {
   "codemirror_mode": {
    "name": "ipython",
    "version": 3
   },
   "file_extension": ".py",
   "mimetype": "text/x-python",
   "name": "python",
   "nbconvert_exporter": "python",
   "pygments_lexer": "ipython3",
   "version": "3.9.12"
  },
  "orig_nbformat": 4,
  "vscode": {
   "interpreter": {
    "hash": "18c28e250ed95ee7d46642a4fa2e914199abe67a7b3fceebf460d05572ea5952"
   }
  }
 },
 "nbformat": 4,
 "nbformat_minor": 2
}
