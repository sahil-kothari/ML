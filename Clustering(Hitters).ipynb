{
  "nbformat": 4,
  "nbformat_minor": 0,
  "metadata": {
    "colab": {
      "provenance": [],
      "include_colab_link": true
    },
    "kernelspec": {
      "name": "python3",
      "display_name": "Python 3"
    },
    "language_info": {
      "name": "python"
    }
  },
  "cells": [
    {
      "cell_type": "markdown",
      "metadata": {
        "id": "view-in-github",
        "colab_type": "text"
      },
      "source": [
        "<a href=\"https://colab.research.google.com/github/sahil-kothari/ML/blob/main/Clustering(Hitters).ipynb\" target=\"_parent\"><img src=\"https://colab.research.google.com/assets/colab-badge.svg\" alt=\"Open In Colab\"/></a>"
      ]
    },
    {
      "cell_type": "code",
      "execution_count": null,
      "metadata": {
        "id": "5SXvHXO20ORe"
      },
      "outputs": [],
      "source": [
        "import pandas as pd\n",
        "import numpy as np\n",
        "from matplotlib import pyplot as plt\n",
        "from sklearn.cluster import AgglomerativeClustering\n",
        "import scipy.cluster.hierarchy as sch"
      ]
    },
    {
      "cell_type": "code",
      "source": [
        "df = pd.read_csv('/content/Hitters.csv')"
      ],
      "metadata": {
        "id": "0ssvmIdR0TrI"
      },
      "execution_count": null,
      "outputs": []
    },
    {
      "cell_type": "code",
      "source": [
        "df"
      ],
      "metadata": {
        "colab": {
          "base_uri": "https://localhost:8080/",
          "height": 488
        },
        "id": "_EC_qFg10Tte",
        "outputId": "827d42e0-5e26-4f72-c219-54cfcf39ff8b"
      },
      "execution_count": null,
      "outputs": [
        {
          "output_type": "execute_result",
          "data": {
            "text/plain": [
              "     AtBat  Hits  HmRun  Runs  RBI  Walks  Years  CAtBat  CHits  CHmRun  \\\n",
              "0      293    66      1    30   29     14      1     293     66       1   \n",
              "1      315    81      7    24   38     39     14    3449    835      69   \n",
              "2      479   130     18    66   72     76      3    1624    457      63   \n",
              "3      496   141     20    65   78     37     11    5628   1575     225   \n",
              "4      321    87     10    39   42     30      2     396    101      12   \n",
              "..     ...   ...    ...   ...  ...    ...    ...     ...    ...     ...   \n",
              "317    497   127      7    65   48     37      5    2703    806      32   \n",
              "318    492   136      5    76   50     94     12    5511   1511      39   \n",
              "319    475   126      3    61   43     52      6    1700    433       7   \n",
              "320    573   144      9    85   60     78      8    3198    857      97   \n",
              "321    631   170      9    77   44     31     11    4908   1457      30   \n",
              "\n",
              "     CRuns  CRBI  CWalks League Division  PutOuts  Assists  Errors  Salary  \\\n",
              "0       30    29      14      A        E      446       33      20     NaN   \n",
              "1      321   414     375      N        W      632       43      10   475.0   \n",
              "2      224   266     263      A        W      880       82      14   480.0   \n",
              "3      828   838     354      N        E      200       11       3   500.0   \n",
              "4       48    46      33      N        E      805       40       4    91.5   \n",
              "..     ...   ...     ...    ...      ...      ...      ...     ...     ...   \n",
              "317    379   311     138      N        E      325        9       3   700.0   \n",
              "318    897   451     875      A        E      313      381      20   875.0   \n",
              "319    217    93     146      A        W       37      113       7   385.0   \n",
              "320    470   420     332      A        E     1314      131      12   960.0   \n",
              "321    775   357     249      A        W      408        4       3  1000.0   \n",
              "\n",
              "    NewLeague  \n",
              "0           A  \n",
              "1           N  \n",
              "2           A  \n",
              "3           N  \n",
              "4           N  \n",
              "..        ...  \n",
              "317         N  \n",
              "318         A  \n",
              "319         A  \n",
              "320         A  \n",
              "321         A  \n",
              "\n",
              "[322 rows x 20 columns]"
            ],
            "text/html": [
              "\n",
              "  <div id=\"df-215ca41d-b3ce-494c-8e5a-5405966b0b4e\">\n",
              "    <div class=\"colab-df-container\">\n",
              "      <div>\n",
              "<style scoped>\n",
              "    .dataframe tbody tr th:only-of-type {\n",
              "        vertical-align: middle;\n",
              "    }\n",
              "\n",
              "    .dataframe tbody tr th {\n",
              "        vertical-align: top;\n",
              "    }\n",
              "\n",
              "    .dataframe thead th {\n",
              "        text-align: right;\n",
              "    }\n",
              "</style>\n",
              "<table border=\"1\" class=\"dataframe\">\n",
              "  <thead>\n",
              "    <tr style=\"text-align: right;\">\n",
              "      <th></th>\n",
              "      <th>AtBat</th>\n",
              "      <th>Hits</th>\n",
              "      <th>HmRun</th>\n",
              "      <th>Runs</th>\n",
              "      <th>RBI</th>\n",
              "      <th>Walks</th>\n",
              "      <th>Years</th>\n",
              "      <th>CAtBat</th>\n",
              "      <th>CHits</th>\n",
              "      <th>CHmRun</th>\n",
              "      <th>CRuns</th>\n",
              "      <th>CRBI</th>\n",
              "      <th>CWalks</th>\n",
              "      <th>League</th>\n",
              "      <th>Division</th>\n",
              "      <th>PutOuts</th>\n",
              "      <th>Assists</th>\n",
              "      <th>Errors</th>\n",
              "      <th>Salary</th>\n",
              "      <th>NewLeague</th>\n",
              "    </tr>\n",
              "  </thead>\n",
              "  <tbody>\n",
              "    <tr>\n",
              "      <th>0</th>\n",
              "      <td>293</td>\n",
              "      <td>66</td>\n",
              "      <td>1</td>\n",
              "      <td>30</td>\n",
              "      <td>29</td>\n",
              "      <td>14</td>\n",
              "      <td>1</td>\n",
              "      <td>293</td>\n",
              "      <td>66</td>\n",
              "      <td>1</td>\n",
              "      <td>30</td>\n",
              "      <td>29</td>\n",
              "      <td>14</td>\n",
              "      <td>A</td>\n",
              "      <td>E</td>\n",
              "      <td>446</td>\n",
              "      <td>33</td>\n",
              "      <td>20</td>\n",
              "      <td>NaN</td>\n",
              "      <td>A</td>\n",
              "    </tr>\n",
              "    <tr>\n",
              "      <th>1</th>\n",
              "      <td>315</td>\n",
              "      <td>81</td>\n",
              "      <td>7</td>\n",
              "      <td>24</td>\n",
              "      <td>38</td>\n",
              "      <td>39</td>\n",
              "      <td>14</td>\n",
              "      <td>3449</td>\n",
              "      <td>835</td>\n",
              "      <td>69</td>\n",
              "      <td>321</td>\n",
              "      <td>414</td>\n",
              "      <td>375</td>\n",
              "      <td>N</td>\n",
              "      <td>W</td>\n",
              "      <td>632</td>\n",
              "      <td>43</td>\n",
              "      <td>10</td>\n",
              "      <td>475.0</td>\n",
              "      <td>N</td>\n",
              "    </tr>\n",
              "    <tr>\n",
              "      <th>2</th>\n",
              "      <td>479</td>\n",
              "      <td>130</td>\n",
              "      <td>18</td>\n",
              "      <td>66</td>\n",
              "      <td>72</td>\n",
              "      <td>76</td>\n",
              "      <td>3</td>\n",
              "      <td>1624</td>\n",
              "      <td>457</td>\n",
              "      <td>63</td>\n",
              "      <td>224</td>\n",
              "      <td>266</td>\n",
              "      <td>263</td>\n",
              "      <td>A</td>\n",
              "      <td>W</td>\n",
              "      <td>880</td>\n",
              "      <td>82</td>\n",
              "      <td>14</td>\n",
              "      <td>480.0</td>\n",
              "      <td>A</td>\n",
              "    </tr>\n",
              "    <tr>\n",
              "      <th>3</th>\n",
              "      <td>496</td>\n",
              "      <td>141</td>\n",
              "      <td>20</td>\n",
              "      <td>65</td>\n",
              "      <td>78</td>\n",
              "      <td>37</td>\n",
              "      <td>11</td>\n",
              "      <td>5628</td>\n",
              "      <td>1575</td>\n",
              "      <td>225</td>\n",
              "      <td>828</td>\n",
              "      <td>838</td>\n",
              "      <td>354</td>\n",
              "      <td>N</td>\n",
              "      <td>E</td>\n",
              "      <td>200</td>\n",
              "      <td>11</td>\n",
              "      <td>3</td>\n",
              "      <td>500.0</td>\n",
              "      <td>N</td>\n",
              "    </tr>\n",
              "    <tr>\n",
              "      <th>4</th>\n",
              "      <td>321</td>\n",
              "      <td>87</td>\n",
              "      <td>10</td>\n",
              "      <td>39</td>\n",
              "      <td>42</td>\n",
              "      <td>30</td>\n",
              "      <td>2</td>\n",
              "      <td>396</td>\n",
              "      <td>101</td>\n",
              "      <td>12</td>\n",
              "      <td>48</td>\n",
              "      <td>46</td>\n",
              "      <td>33</td>\n",
              "      <td>N</td>\n",
              "      <td>E</td>\n",
              "      <td>805</td>\n",
              "      <td>40</td>\n",
              "      <td>4</td>\n",
              "      <td>91.5</td>\n",
              "      <td>N</td>\n",
              "    </tr>\n",
              "    <tr>\n",
              "      <th>...</th>\n",
              "      <td>...</td>\n",
              "      <td>...</td>\n",
              "      <td>...</td>\n",
              "      <td>...</td>\n",
              "      <td>...</td>\n",
              "      <td>...</td>\n",
              "      <td>...</td>\n",
              "      <td>...</td>\n",
              "      <td>...</td>\n",
              "      <td>...</td>\n",
              "      <td>...</td>\n",
              "      <td>...</td>\n",
              "      <td>...</td>\n",
              "      <td>...</td>\n",
              "      <td>...</td>\n",
              "      <td>...</td>\n",
              "      <td>...</td>\n",
              "      <td>...</td>\n",
              "      <td>...</td>\n",
              "      <td>...</td>\n",
              "    </tr>\n",
              "    <tr>\n",
              "      <th>317</th>\n",
              "      <td>497</td>\n",
              "      <td>127</td>\n",
              "      <td>7</td>\n",
              "      <td>65</td>\n",
              "      <td>48</td>\n",
              "      <td>37</td>\n",
              "      <td>5</td>\n",
              "      <td>2703</td>\n",
              "      <td>806</td>\n",
              "      <td>32</td>\n",
              "      <td>379</td>\n",
              "      <td>311</td>\n",
              "      <td>138</td>\n",
              "      <td>N</td>\n",
              "      <td>E</td>\n",
              "      <td>325</td>\n",
              "      <td>9</td>\n",
              "      <td>3</td>\n",
              "      <td>700.0</td>\n",
              "      <td>N</td>\n",
              "    </tr>\n",
              "    <tr>\n",
              "      <th>318</th>\n",
              "      <td>492</td>\n",
              "      <td>136</td>\n",
              "      <td>5</td>\n",
              "      <td>76</td>\n",
              "      <td>50</td>\n",
              "      <td>94</td>\n",
              "      <td>12</td>\n",
              "      <td>5511</td>\n",
              "      <td>1511</td>\n",
              "      <td>39</td>\n",
              "      <td>897</td>\n",
              "      <td>451</td>\n",
              "      <td>875</td>\n",
              "      <td>A</td>\n",
              "      <td>E</td>\n",
              "      <td>313</td>\n",
              "      <td>381</td>\n",
              "      <td>20</td>\n",
              "      <td>875.0</td>\n",
              "      <td>A</td>\n",
              "    </tr>\n",
              "    <tr>\n",
              "      <th>319</th>\n",
              "      <td>475</td>\n",
              "      <td>126</td>\n",
              "      <td>3</td>\n",
              "      <td>61</td>\n",
              "      <td>43</td>\n",
              "      <td>52</td>\n",
              "      <td>6</td>\n",
              "      <td>1700</td>\n",
              "      <td>433</td>\n",
              "      <td>7</td>\n",
              "      <td>217</td>\n",
              "      <td>93</td>\n",
              "      <td>146</td>\n",
              "      <td>A</td>\n",
              "      <td>W</td>\n",
              "      <td>37</td>\n",
              "      <td>113</td>\n",
              "      <td>7</td>\n",
              "      <td>385.0</td>\n",
              "      <td>A</td>\n",
              "    </tr>\n",
              "    <tr>\n",
              "      <th>320</th>\n",
              "      <td>573</td>\n",
              "      <td>144</td>\n",
              "      <td>9</td>\n",
              "      <td>85</td>\n",
              "      <td>60</td>\n",
              "      <td>78</td>\n",
              "      <td>8</td>\n",
              "      <td>3198</td>\n",
              "      <td>857</td>\n",
              "      <td>97</td>\n",
              "      <td>470</td>\n",
              "      <td>420</td>\n",
              "      <td>332</td>\n",
              "      <td>A</td>\n",
              "      <td>E</td>\n",
              "      <td>1314</td>\n",
              "      <td>131</td>\n",
              "      <td>12</td>\n",
              "      <td>960.0</td>\n",
              "      <td>A</td>\n",
              "    </tr>\n",
              "    <tr>\n",
              "      <th>321</th>\n",
              "      <td>631</td>\n",
              "      <td>170</td>\n",
              "      <td>9</td>\n",
              "      <td>77</td>\n",
              "      <td>44</td>\n",
              "      <td>31</td>\n",
              "      <td>11</td>\n",
              "      <td>4908</td>\n",
              "      <td>1457</td>\n",
              "      <td>30</td>\n",
              "      <td>775</td>\n",
              "      <td>357</td>\n",
              "      <td>249</td>\n",
              "      <td>A</td>\n",
              "      <td>W</td>\n",
              "      <td>408</td>\n",
              "      <td>4</td>\n",
              "      <td>3</td>\n",
              "      <td>1000.0</td>\n",
              "      <td>A</td>\n",
              "    </tr>\n",
              "  </tbody>\n",
              "</table>\n",
              "<p>322 rows × 20 columns</p>\n",
              "</div>\n",
              "      <button class=\"colab-df-convert\" onclick=\"convertToInteractive('df-215ca41d-b3ce-494c-8e5a-5405966b0b4e')\"\n",
              "              title=\"Convert this dataframe to an interactive table.\"\n",
              "              style=\"display:none;\">\n",
              "        \n",
              "  <svg xmlns=\"http://www.w3.org/2000/svg\" height=\"24px\"viewBox=\"0 0 24 24\"\n",
              "       width=\"24px\">\n",
              "    <path d=\"M0 0h24v24H0V0z\" fill=\"none\"/>\n",
              "    <path d=\"M18.56 5.44l.94 2.06.94-2.06 2.06-.94-2.06-.94-.94-2.06-.94 2.06-2.06.94zm-11 1L8.5 8.5l.94-2.06 2.06-.94-2.06-.94L8.5 2.5l-.94 2.06-2.06.94zm10 10l.94 2.06.94-2.06 2.06-.94-2.06-.94-.94-2.06-.94 2.06-2.06.94z\"/><path d=\"M17.41 7.96l-1.37-1.37c-.4-.4-.92-.59-1.43-.59-.52 0-1.04.2-1.43.59L10.3 9.45l-7.72 7.72c-.78.78-.78 2.05 0 2.83L4 21.41c.39.39.9.59 1.41.59.51 0 1.02-.2 1.41-.59l7.78-7.78 2.81-2.81c.8-.78.8-2.07 0-2.86zM5.41 20L4 18.59l7.72-7.72 1.47 1.35L5.41 20z\"/>\n",
              "  </svg>\n",
              "      </button>\n",
              "      \n",
              "  <style>\n",
              "    .colab-df-container {\n",
              "      display:flex;\n",
              "      flex-wrap:wrap;\n",
              "      gap: 12px;\n",
              "    }\n",
              "\n",
              "    .colab-df-convert {\n",
              "      background-color: #E8F0FE;\n",
              "      border: none;\n",
              "      border-radius: 50%;\n",
              "      cursor: pointer;\n",
              "      display: none;\n",
              "      fill: #1967D2;\n",
              "      height: 32px;\n",
              "      padding: 0 0 0 0;\n",
              "      width: 32px;\n",
              "    }\n",
              "\n",
              "    .colab-df-convert:hover {\n",
              "      background-color: #E2EBFA;\n",
              "      box-shadow: 0px 1px 2px rgba(60, 64, 67, 0.3), 0px 1px 3px 1px rgba(60, 64, 67, 0.15);\n",
              "      fill: #174EA6;\n",
              "    }\n",
              "\n",
              "    [theme=dark] .colab-df-convert {\n",
              "      background-color: #3B4455;\n",
              "      fill: #D2E3FC;\n",
              "    }\n",
              "\n",
              "    [theme=dark] .colab-df-convert:hover {\n",
              "      background-color: #434B5C;\n",
              "      box-shadow: 0px 1px 3px 1px rgba(0, 0, 0, 0.15);\n",
              "      filter: drop-shadow(0px 1px 2px rgba(0, 0, 0, 0.3));\n",
              "      fill: #FFFFFF;\n",
              "    }\n",
              "  </style>\n",
              "\n",
              "      <script>\n",
              "        const buttonEl =\n",
              "          document.querySelector('#df-215ca41d-b3ce-494c-8e5a-5405966b0b4e button.colab-df-convert');\n",
              "        buttonEl.style.display =\n",
              "          google.colab.kernel.accessAllowed ? 'block' : 'none';\n",
              "\n",
              "        async function convertToInteractive(key) {\n",
              "          const element = document.querySelector('#df-215ca41d-b3ce-494c-8e5a-5405966b0b4e');\n",
              "          const dataTable =\n",
              "            await google.colab.kernel.invokeFunction('convertToInteractive',\n",
              "                                                     [key], {});\n",
              "          if (!dataTable) return;\n",
              "\n",
              "          const docLinkHtml = 'Like what you see? Visit the ' +\n",
              "            '<a target=\"_blank\" href=https://colab.research.google.com/notebooks/data_table.ipynb>data table notebook</a>'\n",
              "            + ' to learn more about interactive tables.';\n",
              "          element.innerHTML = '';\n",
              "          dataTable['output_type'] = 'display_data';\n",
              "          await google.colab.output.renderOutput(dataTable, element);\n",
              "          const docLink = document.createElement('div');\n",
              "          docLink.innerHTML = docLinkHtml;\n",
              "          element.appendChild(docLink);\n",
              "        }\n",
              "      </script>\n",
              "    </div>\n",
              "  </div>\n",
              "  "
            ]
          },
          "metadata": {},
          "execution_count": 3
        }
      ]
    },
    {
      "cell_type": "code",
      "source": [
        "df.isnull().sum()"
      ],
      "metadata": {
        "colab": {
          "base_uri": "https://localhost:8080/"
        },
        "id": "xOjJzrbU0Tv-",
        "outputId": "4f256fce-0407-4de7-db84-9e7d6cbdb1cf"
      },
      "execution_count": null,
      "outputs": [
        {
          "output_type": "execute_result",
          "data": {
            "text/plain": [
              "AtBat         0\n",
              "Hits          0\n",
              "HmRun         0\n",
              "Runs          0\n",
              "RBI           0\n",
              "Walks         0\n",
              "Years         0\n",
              "CAtBat        0\n",
              "CHits         0\n",
              "CHmRun        0\n",
              "CRuns         0\n",
              "CRBI          0\n",
              "CWalks        0\n",
              "League        0\n",
              "Division      0\n",
              "PutOuts       0\n",
              "Assists       0\n",
              "Errors        0\n",
              "Salary       59\n",
              "NewLeague     0\n",
              "dtype: int64"
            ]
          },
          "metadata": {},
          "execution_count": 4
        }
      ]
    },
    {
      "cell_type": "code",
      "source": [
        "mean = df['Salary'].mean()\n",
        "df['Salary'].fillna(value = mean, inplace =True)"
      ],
      "metadata": {
        "id": "TMj8TtTb0TyS"
      },
      "execution_count": null,
      "outputs": []
    },
    {
      "cell_type": "code",
      "source": [
        "df.isnull().sum()"
      ],
      "metadata": {
        "colab": {
          "base_uri": "https://localhost:8080/"
        },
        "id": "z6OwYKE00T0y",
        "outputId": "65f0169f-671b-4481-a03d-aa926736b324"
      },
      "execution_count": null,
      "outputs": [
        {
          "output_type": "execute_result",
          "data": {
            "text/plain": [
              "AtBat        0\n",
              "Hits         0\n",
              "HmRun        0\n",
              "Runs         0\n",
              "RBI          0\n",
              "Walks        0\n",
              "Years        0\n",
              "CAtBat       0\n",
              "CHits        0\n",
              "CHmRun       0\n",
              "CRuns        0\n",
              "CRBI         0\n",
              "CWalks       0\n",
              "League       0\n",
              "Division     0\n",
              "PutOuts      0\n",
              "Assists      0\n",
              "Errors       0\n",
              "Salary       0\n",
              "NewLeague    0\n",
              "dtype: int64"
            ]
          },
          "metadata": {},
          "execution_count": 7
        }
      ]
    },
    {
      "cell_type": "code",
      "source": [
        "df.dtypes"
      ],
      "metadata": {
        "colab": {
          "base_uri": "https://localhost:8080/"
        },
        "id": "v6CJn0RG0T2b",
        "outputId": "4eef9468-fbfe-4b7b-f015-ea453af05144"
      },
      "execution_count": null,
      "outputs": [
        {
          "output_type": "execute_result",
          "data": {
            "text/plain": [
              "AtBat          int64\n",
              "Hits           int64\n",
              "HmRun          int64\n",
              "Runs           int64\n",
              "RBI            int64\n",
              "Walks          int64\n",
              "Years          int64\n",
              "CAtBat         int64\n",
              "CHits          int64\n",
              "CHmRun         int64\n",
              "CRuns          int64\n",
              "CRBI           int64\n",
              "CWalks         int64\n",
              "League        object\n",
              "Division      object\n",
              "PutOuts        int64\n",
              "Assists        int64\n",
              "Errors         int64\n",
              "Salary       float64\n",
              "NewLeague     object\n",
              "dtype: object"
            ]
          },
          "metadata": {},
          "execution_count": 8
        }
      ]
    },
    {
      "cell_type": "code",
      "source": [
        "df['League']= df['League'].factorize()[0]\n",
        "df['Division']= df['Division'].factorize()[0]\n",
        "df['NewLeague']= df['NewLeague'].factorize()[0]"
      ],
      "metadata": {
        "id": "7W-pzDtF0T4g"
      },
      "execution_count": null,
      "outputs": []
    },
    {
      "cell_type": "code",
      "source": [
        "df.dtypes"
      ],
      "metadata": {
        "colab": {
          "base_uri": "https://localhost:8080/"
        },
        "id": "7gIReOV70T6e",
        "outputId": "412a85e8-1004-495d-eb7a-f539b6e900b8"
      },
      "execution_count": null,
      "outputs": [
        {
          "output_type": "execute_result",
          "data": {
            "text/plain": [
              "AtBat          int64\n",
              "Hits           int64\n",
              "HmRun          int64\n",
              "Runs           int64\n",
              "RBI            int64\n",
              "Walks          int64\n",
              "Years          int64\n",
              "CAtBat         int64\n",
              "CHits          int64\n",
              "CHmRun         int64\n",
              "CRuns          int64\n",
              "CRBI           int64\n",
              "CWalks         int64\n",
              "League         int64\n",
              "Division       int64\n",
              "PutOuts        int64\n",
              "Assists        int64\n",
              "Errors         int64\n",
              "Salary       float64\n",
              "NewLeague      int64\n",
              "dtype: object"
            ]
          },
          "metadata": {},
          "execution_count": 10
        }
      ]
    },
    {
      "cell_type": "code",
      "source": [
        "df['Salary']=df['Salary'].astype(int)"
      ],
      "metadata": {
        "id": "QXN1W9IW0T-X"
      },
      "execution_count": null,
      "outputs": []
    },
    {
      "cell_type": "code",
      "source": [
        "df.dtypes\n"
      ],
      "metadata": {
        "colab": {
          "base_uri": "https://localhost:8080/"
        },
        "id": "90XYrmE40UBT",
        "outputId": "0d2934a9-51ab-44bc-bd00-34920e045301"
      },
      "execution_count": null,
      "outputs": [
        {
          "output_type": "execute_result",
          "data": {
            "text/plain": [
              "AtBat        int64\n",
              "Hits         int64\n",
              "HmRun        int64\n",
              "Runs         int64\n",
              "RBI          int64\n",
              "Walks        int64\n",
              "Years        int64\n",
              "CAtBat       int64\n",
              "CHits        int64\n",
              "CHmRun       int64\n",
              "CRuns        int64\n",
              "CRBI         int64\n",
              "CWalks       int64\n",
              "League       int64\n",
              "Division     int64\n",
              "PutOuts      int64\n",
              "Assists      int64\n",
              "Errors       int64\n",
              "Salary       int64\n",
              "NewLeague    int64\n",
              "dtype: object"
            ]
          },
          "metadata": {},
          "execution_count": 12
        }
      ]
    },
    {
      "cell_type": "code",
      "source": [
        "X = df.iloc[:, [10, 11]].values\n",
        "print(X)"
      ],
      "metadata": {
        "colab": {
          "base_uri": "https://localhost:8080/"
        },
        "id": "-BlfFjZo0UD9",
        "outputId": "3fc28f92-461d-40ee-8928-7d59b51d1b11"
      },
      "execution_count": null,
      "outputs": [
        {
          "output_type": "stream",
          "name": "stdout",
          "text": [
            "[[  30   29]\n",
            " [ 321  414]\n",
            " [ 224  266]\n",
            " [ 828  838]\n",
            " [  48   46]\n",
            " [ 501  336]\n",
            " [  30    9]\n",
            " [  41   37]\n",
            " [  32   34]\n",
            " [ 784  890]\n",
            " [ 702  504]\n",
            " [ 192  186]\n",
            " [ 205  204]\n",
            " [ 309  103]\n",
            " [ 376  290]\n",
            " [  20   16]\n",
            " [1045  993]\n",
            " [  65   23]\n",
            " [ 643  658]\n",
            " [  67   82]\n",
            " [  72   48]\n",
            " [  55   43]\n",
            " [   9    9]\n",
            " [ 242  251]\n",
            " [1008 1072]\n",
            " [ 442  198]\n",
            " [ 291  108]\n",
            " [ 246  327]\n",
            " [ 349  182]\n",
            " [ 763  734]\n",
            " [1033  864]\n",
            " [  80   46]\n",
            " [ 545  652]\n",
            " [ 219  208]\n",
            " [ 126  132]\n",
            " [ 859  803]\n",
            " [ 156   86]\n",
            " [  34   29]\n",
            " [ 784  901]\n",
            " [  34   12]\n",
            " [  20   29]\n",
            " [ 796  627]\n",
            " [ 371  230]\n",
            " [  86   76]\n",
            " [ 486  493]\n",
            " [ 108  117]\n",
            " [ 113  121]\n",
            " [ 117  107]\n",
            " [ 987 1089]\n",
            " [ 352  342]\n",
            " [1003  977]\n",
            " [  32   32]\n",
            " [   3    4]\n",
            " [ 634  563]\n",
            " [ 747  666]\n",
            " [  99  138]\n",
            " [ 164  179]\n",
            " [ 441  401]\n",
            " [ 409  321]\n",
            " [ 529  472]\n",
            " [  58   69]\n",
            " [ 698  661]\n",
            " [ 116   64]\n",
            " [ 118   69]\n",
            " [  20   12]\n",
            " [1141 1179]\n",
            " [  61   74]\n",
            " [  57   40]\n",
            " [  99  103]\n",
            " [ 612  344]\n",
            " [ 950  909]\n",
            " [  33   32]\n",
            " [ 712  815]\n",
            " [1175 1152]\n",
            " [1082  949]\n",
            " [ 461  301]\n",
            " [ 196  110]\n",
            " [ 144  149]\n",
            " [ 285  274]\n",
            " [ 123  108]\n",
            " [ 901 1210]\n",
            " [1019  608]\n",
            " [ 349  401]\n",
            " [ 156  158]\n",
            " [ 813  822]\n",
            " [ 575  528]\n",
            " [ 978 1093]\n",
            " [  61   70]\n",
            " [ 746  805]\n",
            " [ 160  123]\n",
            " [ 156  159]\n",
            " [ 292  343]\n",
            " [  35   35]\n",
            " [  87  110]\n",
            " [ 258  192]\n",
            " [ 287  294]\n",
            " [1135 1234]\n",
            " [ 753  596]\n",
            " [ 156  119]\n",
            " [ 335  174]\n",
            " [ 884 1015]\n",
            " [ 123   92]\n",
            " [ 166  122]\n",
            " [ 266  323]\n",
            " [ 906  926]\n",
            " [ 107  114]\n",
            " [  77   77]\n",
            " [ 743  693]\n",
            " [ 297  319]\n",
            " [  19   18]\n",
            " [1072 1050]\n",
            " [ 195  219]\n",
            " [ 847  999]\n",
            " [ 148  173]\n",
            " [ 986 1239]\n",
            " [ 361  401]\n",
            " [ 102   80]\n",
            " [ 915 1067]\n",
            " [ 429  365]\n",
            " [ 216  208]\n",
            " [1070  955]\n",
            " [1172 1267]\n",
            " [ 247  126]\n",
            " [ 284  141]\n",
            " [ 703  519]\n",
            " [ 681  782]\n",
            " [ 211  280]\n",
            " [ 444  419]\n",
            " [ 265  316]\n",
            " [ 492  589]\n",
            " [ 313  377]\n",
            " [ 145  154]\n",
            " [ 935 1088]\n",
            " [  72   31]\n",
            " [  80   97]\n",
            " [  58   37]\n",
            " [ 371  376]\n",
            " [ 581  421]\n",
            " [ 139   98]\n",
            " [  67   32]\n",
            " [ 101  130]\n",
            " [ 210  222]\n",
            " [ 702  705]\n",
            " [ 980 1032]\n",
            " [ 557  279]\n",
            " [ 273  383]\n",
            " [ 304  268]\n",
            " [ 330  326]\n",
            " [ 450  367]\n",
            " [ 544  462]\n",
            " [ 202  185]\n",
            " [  45   39]\n",
            " [  33   38]\n",
            " [ 379  428]\n",
            " [ 302  351]\n",
            " [  89   48]\n",
            " [ 616  522]\n",
            " [ 126   44]\n",
            " [ 730  741]\n",
            " [ 181  227]\n",
            " [ 100  125]\n",
            " [ 366  337]\n",
            " [  18   10]\n",
            " [1104 1289]\n",
            " [ 518  324]\n",
            " [  68   94]\n",
            " [ 310  226]\n",
            " [ 188  135]\n",
            " [  38   46]\n",
            " [  97   48]\n",
            " [ 578  579]\n",
            " [  31   46]\n",
            " [  96   72]\n",
            " [  77   99]\n",
            " [ 419  382]\n",
            " [ 219  195]\n",
            " [  34   23]\n",
            " [ 433  420]\n",
            " [ 983  707]\n",
            " [ 969  900]\n",
            " [ 405  474]\n",
            " [ 505  456]\n",
            " [ 233  260]\n",
            " [  51   44]\n",
            " [ 363  477]\n",
            " [ 408  303]\n",
            " [ 150  156]\n",
            " [ 262  201]\n",
            " [  31   26]\n",
            " [ 436  458]\n",
            " [ 117   64]\n",
            " [ 557  483]\n",
            " [ 615  430]\n",
            " [ 113  119]\n",
            " [ 513  471]\n",
            " [ 577  700]\n",
            " [ 740  840]\n",
            " [  20   13]\n",
            " [  88  112]\n",
            " [ 571  289]\n",
            " [ 724  522]\n",
            " [  27   25]\n",
            " [ 216  163]\n",
            " [ 101  110]\n",
            " [ 300  263]\n",
            " [  24   37]\n",
            " [ 121   69]\n",
            " [ 445  491]\n",
            " [  66  106]\n",
            " [ 210  203]\n",
            " [ 269  270]\n",
            " [ 315  325]\n",
            " [  25   14]\n",
            " [  20   36]\n",
            " [ 247  288]\n",
            " [ 150  167]\n",
            " [  80   75]\n",
            " [   6    7]\n",
            " [ 181  199]\n",
            " [  59   55]\n",
            " [  71   33]\n",
            " [ 132   83]\n",
            " [ 451  249]\n",
            " [ 198  120]\n",
            " [ 181  177]\n",
            " [ 167  198]\n",
            " [ 129   80]\n",
            " [ 168   91]\n",
            " [ 699  386]\n",
            " [ 583  374]\n",
            " [ 176  202]\n",
            " [ 245  167]\n",
            " [ 751  714]\n",
            " [  82   88]\n",
            " [ 676  390]\n",
            " [ 278  328]\n",
            " [2165 1314]\n",
            " [ 166  125]\n",
            " [ 250  252]\n",
            " [  41   32]\n",
            " [ 630  435]\n",
            " [ 178  192]\n",
            " [ 266  304]\n",
            " [ 965 1128]\n",
            " [ 102  109]\n",
            " [ 438  380]\n",
            " [ 244  288]\n",
            " [ 249  322]\n",
            " [ 862  417]\n",
            " [1509 1659]\n",
            " [   2    4]\n",
            " [ 238  299]\n",
            " [ 410  497]\n",
            " [  28   16]\n",
            " [ 379  198]\n",
            " [ 102   96]\n",
            " [ 643  445]\n",
            " [ 295  273]\n",
            " [ 377  284]\n",
            " [  32   22]\n",
            " [ 365  280]\n",
            " [  16   13]\n",
            " [ 128  104]\n",
            " [ 494  345]\n",
            " [  94   71]\n",
            " [  98   54]\n",
            " [  50   55]\n",
            " [ 713  660]\n",
            " [  73   47]\n",
            " [ 315  259]\n",
            " [  39   32]\n",
            " [1043  827]\n",
            " [ 204  276]\n",
            " [  27   31]\n",
            " [  93  106]\n",
            " [  76   75]\n",
            " [ 106   86]\n",
            " [ 218  149]\n",
            " [1138 1299]\n",
            " [  68   56]\n",
            " [  63   39]\n",
            " [ 211  146]\n",
            " [ 420  230]\n",
            " [   1    0]\n",
            " [ 450  342]\n",
            " [ 324  300]\n",
            " [ 369  384]\n",
            " [ 196  137]\n",
            " [ 207  162]\n",
            " [  83   82]\n",
            " [ 352  230]\n",
            " [ 135  163]\n",
            " [1115  919]\n",
            " [ 421  349]\n",
            " [ 106   80]\n",
            " [   2    3]\n",
            " [ 105   99]\n",
            " [ 129  139]\n",
            " [  88   95]\n",
            " [ 488  491]\n",
            " [ 307  340]\n",
            " [ 149  161]\n",
            " [1272 1652]\n",
            " [ 226  149]\n",
            " [ 579  363]\n",
            " [ 604  314]\n",
            " [1048 1348]\n",
            " [ 180  148]\n",
            " [ 338  406]\n",
            " [ 201   69]\n",
            " [ 399  366]\n",
            " [ 279  257]\n",
            " [ 272  125]\n",
            " [ 474  322]\n",
            " [  66   41]\n",
            " [  82  100]\n",
            " [ 107  124]\n",
            " [ 379  311]\n",
            " [ 897  451]\n",
            " [ 217   93]\n",
            " [ 470  420]\n",
            " [ 775  357]]\n"
          ]
        }
      ]
    },
    {
      "cell_type": "code",
      "source": [
        "dendrogram = sch.dendrogram(sch.linkage(X, method='ward'))"
      ],
      "metadata": {
        "colab": {
          "base_uri": "https://localhost:8080/",
          "height": 265
        },
        "id": "sHthmp9Z0UGE",
        "outputId": "c644121d-7352-441f-df0c-9b0bef39556a"
      },
      "execution_count": null,
      "outputs": [
        {
          "output_type": "display_data",
          "data": {
            "text/plain": [
              "<Figure size 432x288 with 1 Axes>"
            ],
            "image/png": "[encoded data removed]"
          },
          "metadata": {
            "needs_background": "light"
          }
        }
      ]
    },
    {
      "cell_type": "code",
      "source": [
        "model = AgglomerativeClustering(n_clusters=4, affinity='euclidean', linkage='ward')\n",
        "model.fit(X)\n",
        "labels = model.labels_\n",
        "labels"
      ],
      "metadata": {
        "colab": {
          "base_uri": "https://localhost:8080/"
        },
        "id": "K9ZIwCgq3wiP",
        "outputId": "7e277c46-6ab7-446d-fad6-9863a16e522e"
      },
      "execution_count": null,
      "outputs": [
        {
          "output_type": "execute_result",
          "data": {
            "text/plain": [
              "array([2, 3, 3, 1, 2, 3, 2, 2, 2, 1, 1, 2, 2, 2, 3, 2, 0, 2, 1, 2, 2, 2,\n",
              "       2, 3, 0, 3, 2, 3, 3, 1, 0, 2, 1, 2, 2, 1, 2, 2, 1, 2, 2, 1, 3, 2,\n",
              "       1, 2, 2, 2, 0, 3, 0, 2, 2, 1, 1, 2, 2, 3, 3, 1, 2, 1, 2, 2, 2, 0,\n",
              "       2, 2, 2, 1, 0, 2, 1, 0, 0, 3, 2, 2, 3, 2, 0, 1, 3, 2, 1, 1, 0, 2,\n",
              "       1, 2, 2, 3, 2, 2, 2, 3, 0, 1, 2, 3, 0, 2, 2, 3, 0, 2, 2, 1, 3, 2,\n",
              "       0, 2, 0, 2, 0, 3, 2, 0, 3, 2, 0, 0, 2, 2, 1, 1, 3, 3, 3, 1, 3, 2,\n",
              "       0, 2, 2, 2, 3, 1, 2, 2, 2, 2, 1, 0, 1, 3, 3, 3, 3, 1, 2, 2, 2, 3,\n",
              "       3, 2, 1, 2, 1, 2, 2, 3, 2, 0, 3, 2, 3, 2, 2, 2, 1, 2, 2, 2, 3, 2,\n",
              "       2, 3, 1, 0, 3, 1, 3, 2, 3, 3, 2, 2, 2, 3, 2, 1, 1, 2, 1, 1, 1, 2,\n",
              "       2, 1, 1, 2, 2, 2, 3, 2, 2, 3, 2, 2, 3, 3, 2, 2, 3, 2, 2, 2, 2, 2,\n",
              "       2, 2, 3, 2, 2, 2, 2, 2, 1, 1, 2, 2, 1, 2, 1, 3, 0, 2, 3, 2, 1, 2,\n",
              "       3, 0, 2, 3, 3, 3, 1, 0, 2, 3, 3, 2, 3, 2, 1, 3, 3, 2, 3, 2, 2, 3,\n",
              "       2, 2, 2, 1, 2, 3, 2, 0, 3, 2, 2, 2, 2, 2, 0, 2, 2, 2, 3, 2, 3, 3,\n",
              "       3, 2, 2, 2, 3, 2, 0, 3, 2, 2, 2, 2, 2, 1, 3, 2, 0, 2, 1, 1, 0, 2,\n",
              "       3, 2, 3, 3, 2, 3, 2, 2, 2, 3, 1, 2, 3, 1])"
            ]
          },
          "metadata": {},
          "execution_count": 21
        }
      ]
    },
    {
      "cell_type": "code",
      "source": [
        "plt.scatter(X[labels==0, 0], X[labels==0, 1], s=50, marker='o', color='red')\n",
        "plt.scatter(X[labels==1, 0], X[labels==1, 1], s=50, marker='o', color='blue')\n",
        "plt.scatter(X[labels==2, 0], X[labels==2, 1], s=50, marker='o', color='green')\n",
        "plt.scatter(X[labels==3, 0], X[labels==3, 1], s=50, marker='o', color='purple')\n",
        "# plt.scatter(X[labels==4, 0], X[labels==4, 1], s=50, marker='o', color='orange')\n",
        "plt.show()"
      ],
      "metadata": {
        "colab": {
          "base_uri": "https://localhost:8080/",
          "height": 265
        },
        "id": "7ZQvMkRB3we4",
        "outputId": "d3157f04-57c4-48e9-be17-0a69782d027e"
      },
      "execution_count": null,
      "outputs": [
        {
          "output_type": "display_data",
          "data": {
            "text/plain": [
              "<Figure size 432x288 with 1 Axes>"
            ],
            "image/png": "[encoded data removed]"
          },
          "metadata": {
            "needs_background": "light"
          }
        }
      ]
    },
    {
      "cell_type": "code",
      "source": [
        "# Using the elbow method to find the optimal number of clusters\n",
        "from sklearn.cluster import KMeans\n",
        "wcss = []\n",
        "for i in range(1, 11):\n",
        "    kmeans = KMeans(n_clusters = i, init = 'k-means++', random_state = 42)\n",
        "    kmeans.fit(X)\n",
        "    wcss.append(kmeans.inertia_)\n",
        "plt.plot(range(1, 11), wcss)\n",
        "plt.title('The Elbow Method')\n",
        "plt.xlabel('Number of clusters')\n",
        "plt.ylabel('WCSS')\n",
        "plt.show()"
      ],
      "metadata": {
        "colab": {
          "base_uri": "https://localhost:8080/",
          "height": 295
        },
        "id": "7ToF3Ktq3wcc",
        "outputId": "a592911d-172d-4582-b0f6-6fc9a9e1cfd6"
      },
      "execution_count": null,
      "outputs": [
        {
          "output_type": "display_data",
          "data": {
            "text/plain": [
              "<Figure size 432x288 with 1 Axes>"
            ],
            "image/png": "[encoded data removed]"
          },
          "metadata": {
            "needs_background": "light"
          }
        }
      ]
    },
    {
      "cell_type": "code",
      "source": [
        "# Fitting K-Means to the dataset\n",
        "kmeans = KMeans(n_clusters = 4, init = 'k-means++', random_state = 123)\n",
        "y_kmeans = kmeans.fit_predict(X)\n",
        "\n",
        "# Visualising the clusters\n",
        "plt.scatter(X[y_kmeans == 0, 0], X[y_kmeans == 0, 1], s = 50, c = 'red', label = 'Cluster 1')\n",
        "plt.scatter(X[y_kmeans == 1, 0], X[y_kmeans == 1, 1], s = 50, c = 'blue', label = 'Cluster 2')\n",
        "plt.scatter(X[y_kmeans == 2, 0], X[y_kmeans == 2, 1], s = 50, c = 'green', label = 'Cluster 3')\n",
        "plt.scatter(X[y_kmeans == 3, 0], X[y_kmeans == 3, 1], s = 50, c = 'cyan', label = 'Cluster 4')\n",
        "# plt.scatter(X[y_kmeans == 4, 0], X[y_kmeans == 4, 1], s = 50, c = 'magenta', label = 'Cluster 5')\n",
        "plt.scatter(kmeans.cluster_centers_[:, 0], kmeans.cluster_centers_[:, 1], s = 100, c = 'yellow', label = 'Centroids')\n",
        "plt.title('Clusters of customers')\n",
        "plt.xlabel('Cruns')\n",
        "plt.ylabel('Group of Customers)')\n",
        "plt.legend()\n",
        "plt.show()"
      ],
      "metadata": {
        "colab": {
          "base_uri": "https://localhost:8080/",
          "height": 295
        },
        "id": "vRGKElKU3wZ0",
        "outputId": "faa1e660-19f7-42ca-a0df-f2a671f0b57f"
      },
      "execution_count": null,
      "outputs": [
        {
          "output_type": "display_data",
          "data": {
            "text/plain": [
              "<Figure size 432x288 with 1 Axes>"
            ],
            "image/png": "[encoded data removed]"
          },
          "metadata": {
            "needs_background": "light"
          }
        }
      ]
    },
    {
      "cell_type": "code",
      "source": [],
      "metadata": {
        "id": "DgxVtewu3wWj"
      },
      "execution_count": null,
      "outputs": []
    },
    {
      "cell_type": "code",
      "source": [],
      "metadata": {
        "id": "FT0r9zuX3wUJ"
      },
      "execution_count": null,
      "outputs": []
    },
    {
      "cell_type": "code",
      "source": [],
      "metadata": {
        "id": "6kr5RaPY3wRc"
      },
      "execution_count": null,
      "outputs": []
    },
    {
      "cell_type": "code",
      "source": [],
      "metadata": {
        "id": "yaWXHSie3wOr"
      },
      "execution_count": null,
      "outputs": []
    },
    {
      "cell_type": "code",
      "source": [],
      "metadata": {
        "id": "asP_Cl123wLp"
      },
      "execution_count": null,
      "outputs": []
    }
  ]
}